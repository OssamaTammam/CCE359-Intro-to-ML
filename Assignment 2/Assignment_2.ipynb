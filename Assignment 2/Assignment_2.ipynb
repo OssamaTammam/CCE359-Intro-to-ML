{
 "cells": [
  {
   "cell_type": "markdown",
   "metadata": {},
   "source": [
    "# ANN for Image classification"
   ]
  },
  {
   "cell_type": "code",
   "execution_count": 10,
   "metadata": {},
   "outputs": [],
   "source": [
    "import numpy as np\n",
    "import torch\n",
    "from matplotlib import pyplot\n",
    "import pickle\n",
    "\n"
   ]
  },
  {
   "cell_type": "markdown",
   "metadata": {},
   "source": [
    "## Load the CIFAR-10 dataset"
   ]
  },
  {
   "cell_type": "code",
   "execution_count": 11,
   "metadata": {},
   "outputs": [],
   "source": [
    "def load_cifar_batch(file_path):\n",
    "    with open(file_path, 'rb') as f:\n",
    "        data = pickle.load(f, encoding='bytes')\n",
    "        images = data[b'data']\n",
    "        labels = data[b'labels']\n",
    "        images = images.reshape(-1, 3, 32, 32).transpose(0, 2, 3, 1)  # Reshape and rearrange dimensions\n",
    "        return images, labels\n",
    "\n",
    "def load_cifar10_data(data_dir):\n",
    "    x_train, y_train = [], []\n",
    "\n",
    "    for batch_id in range(1, 6):  # Load data from batches 1 to 5\n",
    "        batch_path = f'{data_dir}/data_batch_{batch_id}'\n",
    "        images, labels = load_cifar_batch(batch_path)\n",
    "        x_train.append(images)\n",
    "        y_train.append(labels)\n",
    "\n",
    "    x_train = np.concatenate(x_train, axis=0)\n",
    "    y_train = np.concatenate(y_train, axis=0)\n",
    "\n",
    "    test_batch_path = f'{data_dir}/test_batch'\n",
    "    x_test, y_test = load_cifar_batch(test_batch_path)\n",
    "\n",
    "    return x_train, y_train, x_test, y_test\n",
    "\n",
    "data_dir = 'cifar-10'  # Path to the extracted CIFAR-10 dataset\n",
    "x_train, y_train, x_test, y_test = load_cifar10_data(data_dir)\n",
    "\n"
   ]
  },
  {
   "cell_type": "code",
   "execution_count": 19,
   "metadata": {},
   "outputs": [
    {
     "name": "stdout",
     "output_type": "stream",
     "text": [
      "x_train shape: (50000, 32, 32, 3)\n",
      "y_train shape: 50000\n",
      "x_test shape: 10000\n",
      "y_test shape: 10000\n"
     ]
    }
   ],
   "source": []
  }
 ],
 "metadata": {
  "kernelspec": {
   "display_name": "Python 3",
   "language": "python",
   "name": "python3"
  },
  "language_info": {
   "codemirror_mode": {
    "name": "ipython",
    "version": 3
   },
   "file_extension": ".py",
   "mimetype": "text/x-python",
   "name": "python",
   "nbconvert_exporter": "python",
   "pygments_lexer": "ipython3",
   "version": "3.11.4"
  },
  "orig_nbformat": 4
 },
 "nbformat": 4,
 "nbformat_minor": 2
}
