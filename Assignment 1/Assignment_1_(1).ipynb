{
  "cells": [
    {
      "cell_type": "markdown",
      "metadata": {
        "id": "GlfBZtn7Fcg3"
      },
      "source": []
    },
    {
      "cell_type": "markdown",
      "metadata": {
        "id": "tbD6_B9XF9Yj"
      },
      "source": [
        "# Importing\n"
      ]
    },
    {
      "cell_type": "code",
      "execution_count": 1,
      "metadata": {
        "id": "HcQSJaslEv7Y"
      },
      "outputs": [],
      "source": [
        "import pandas as pd\n",
        "import matplotlib.pyplot as plt\n",
        "from imblearn.under_sampling import RandomUnderSampler\n",
        "from sklearn.linear_model import LogisticRegression\n",
        "from sklearn.neighbors import KNeighborsClassifier\n",
        "from sklearn.metrics import confusion_matrix, ConfusionMatrixDisplay\n",
        "\n",
        "\n",
        "#For ignoring warning\n",
        "import warnings\n",
        "warnings.filterwarnings(\"ignore\")\n",
        "\n",
        "\n"
      ]
    },
    {
      "cell_type": "markdown",
      "metadata": {
        "id": "zPx2J6FAHtc_"
      },
      "source": [
        "# Reading data"
      ]
    },
    {
      "cell_type": "code",
      "execution_count": 2,
      "metadata": {
        "colab": {
          "base_uri": "https://localhost:8080/",
          "height": 300
        },
        "id": "SNJKi7IXH0fM",
        "outputId": "5f8e0017-ff25-4168-9416-2a81201fb37d"
      },
      "outputs": [
        {
          "data": {
            "text/html": [
              "<div>\n",
              "<style scoped>\n",
              "    .dataframe tbody tr th:only-of-type {\n",
              "        vertical-align: middle;\n",
              "    }\n",
              "\n",
              "    .dataframe tbody tr th {\n",
              "        vertical-align: top;\n",
              "    }\n",
              "\n",
              "    .dataframe thead th {\n",
              "        text-align: right;\n",
              "    }\n",
              "</style>\n",
              "<table border=\"1\" class=\"dataframe\">\n",
              "  <thead>\n",
              "    <tr style=\"text-align: right;\">\n",
              "      <th></th>\n",
              "      <th>0</th>\n",
              "      <th>1</th>\n",
              "      <th>2</th>\n",
              "      <th>3</th>\n",
              "      <th>4</th>\n",
              "      <th>5</th>\n",
              "      <th>6</th>\n",
              "      <th>7</th>\n",
              "      <th>8</th>\n",
              "      <th>9</th>\n",
              "    </tr>\n",
              "  </thead>\n",
              "  <tbody>\n",
              "    <tr>\n",
              "      <th>count</th>\n",
              "      <td>19020.000000</td>\n",
              "      <td>19020.000000</td>\n",
              "      <td>19020.000000</td>\n",
              "      <td>19020.000000</td>\n",
              "      <td>19020.000000</td>\n",
              "      <td>19020.000000</td>\n",
              "      <td>19020.000000</td>\n",
              "      <td>19020.000000</td>\n",
              "      <td>19020.000000</td>\n",
              "      <td>19020.000000</td>\n",
              "    </tr>\n",
              "    <tr>\n",
              "      <th>mean</th>\n",
              "      <td>53.250154</td>\n",
              "      <td>22.180966</td>\n",
              "      <td>2.825017</td>\n",
              "      <td>0.380327</td>\n",
              "      <td>0.214657</td>\n",
              "      <td>-4.331745</td>\n",
              "      <td>10.545545</td>\n",
              "      <td>0.249726</td>\n",
              "      <td>27.645707</td>\n",
              "      <td>193.818026</td>\n",
              "    </tr>\n",
              "    <tr>\n",
              "      <th>std</th>\n",
              "      <td>42.364855</td>\n",
              "      <td>18.346056</td>\n",
              "      <td>0.472599</td>\n",
              "      <td>0.182813</td>\n",
              "      <td>0.110511</td>\n",
              "      <td>59.206062</td>\n",
              "      <td>51.000118</td>\n",
              "      <td>20.827439</td>\n",
              "      <td>26.103621</td>\n",
              "      <td>74.731787</td>\n",
              "    </tr>\n",
              "    <tr>\n",
              "      <th>min</th>\n",
              "      <td>4.283500</td>\n",
              "      <td>0.000000</td>\n",
              "      <td>1.941300</td>\n",
              "      <td>0.013100</td>\n",
              "      <td>0.000300</td>\n",
              "      <td>-457.916100</td>\n",
              "      <td>-331.780000</td>\n",
              "      <td>-205.894700</td>\n",
              "      <td>0.000000</td>\n",
              "      <td>1.282600</td>\n",
              "    </tr>\n",
              "    <tr>\n",
              "      <th>25%</th>\n",
              "      <td>24.336000</td>\n",
              "      <td>11.863800</td>\n",
              "      <td>2.477100</td>\n",
              "      <td>0.235800</td>\n",
              "      <td>0.128475</td>\n",
              "      <td>-20.586550</td>\n",
              "      <td>-12.842775</td>\n",
              "      <td>-10.849375</td>\n",
              "      <td>5.547925</td>\n",
              "      <td>142.492250</td>\n",
              "    </tr>\n",
              "    <tr>\n",
              "      <th>50%</th>\n",
              "      <td>37.147700</td>\n",
              "      <td>17.139900</td>\n",
              "      <td>2.739600</td>\n",
              "      <td>0.354150</td>\n",
              "      <td>0.196500</td>\n",
              "      <td>4.013050</td>\n",
              "      <td>15.314100</td>\n",
              "      <td>0.666200</td>\n",
              "      <td>17.679500</td>\n",
              "      <td>191.851450</td>\n",
              "    </tr>\n",
              "    <tr>\n",
              "      <th>75%</th>\n",
              "      <td>70.122175</td>\n",
              "      <td>24.739475</td>\n",
              "      <td>3.101600</td>\n",
              "      <td>0.503700</td>\n",
              "      <td>0.285225</td>\n",
              "      <td>24.063700</td>\n",
              "      <td>35.837800</td>\n",
              "      <td>10.946425</td>\n",
              "      <td>45.883550</td>\n",
              "      <td>240.563825</td>\n",
              "    </tr>\n",
              "    <tr>\n",
              "      <th>max</th>\n",
              "      <td>334.177000</td>\n",
              "      <td>256.382000</td>\n",
              "      <td>5.323300</td>\n",
              "      <td>0.893000</td>\n",
              "      <td>0.675200</td>\n",
              "      <td>575.240700</td>\n",
              "      <td>238.321000</td>\n",
              "      <td>179.851000</td>\n",
              "      <td>90.000000</td>\n",
              "      <td>495.561000</td>\n",
              "    </tr>\n",
              "  </tbody>\n",
              "</table>\n",
              "</div>"
            ],
            "text/plain": [
              "                  0             1             2             3             4  \\\n",
              "count  19020.000000  19020.000000  19020.000000  19020.000000  19020.000000   \n",
              "mean      53.250154     22.180966      2.825017      0.380327      0.214657   \n",
              "std       42.364855     18.346056      0.472599      0.182813      0.110511   \n",
              "min        4.283500      0.000000      1.941300      0.013100      0.000300   \n",
              "25%       24.336000     11.863800      2.477100      0.235800      0.128475   \n",
              "50%       37.147700     17.139900      2.739600      0.354150      0.196500   \n",
              "75%       70.122175     24.739475      3.101600      0.503700      0.285225   \n",
              "max      334.177000    256.382000      5.323300      0.893000      0.675200   \n",
              "\n",
              "                  5             6             7             8             9  \n",
              "count  19020.000000  19020.000000  19020.000000  19020.000000  19020.000000  \n",
              "mean      -4.331745     10.545545      0.249726     27.645707    193.818026  \n",
              "std       59.206062     51.000118     20.827439     26.103621     74.731787  \n",
              "min     -457.916100   -331.780000   -205.894700      0.000000      1.282600  \n",
              "25%      -20.586550    -12.842775    -10.849375      5.547925    142.492250  \n",
              "50%        4.013050     15.314100      0.666200     17.679500    191.851450  \n",
              "75%       24.063700     35.837800     10.946425     45.883550    240.563825  \n",
              "max      575.240700    238.321000    179.851000     90.000000    495.561000  "
            ]
          },
          "execution_count": 2,
          "metadata": {},
          "output_type": "execute_result"
        }
      ],
      "source": [
        "cols = [\"0\", \"1\", \"2\", \"3\", \"4\", \"5\", \"6\", \"7\", \"8\", \"9\", \"class\"]\n",
        "df = pd.read_csv(\"data/magic04.data\", names=cols)\n",
        "df.describe()"
      ]
    },
    {
      "cell_type": "code",
      "execution_count": 3,
      "metadata": {
        "colab": {
          "base_uri": "https://localhost:8080/"
        },
        "id": "by5vfcy-3x2v",
        "outputId": "5c3d4f3c-4f03-46f0-dedd-eb100fd52390"
      },
      "outputs": [
        {
          "data": {
            "text/plain": [
              "class\n",
              "g    12332\n",
              "h     6688\n",
              "Name: count, dtype: int64"
            ]
          },
          "execution_count": 3,
          "metadata": {},
          "output_type": "execute_result"
        }
      ],
      "source": [
        "x = df.drop(columns=\"class\")\n",
        "y = df[\"class\"]\n",
        "y.value_counts()"
      ]
    },
    {
      "cell_type": "code",
      "execution_count": 4,
      "metadata": {
        "colab": {
          "base_uri": "https://localhost:8080/",
          "height": 206
        },
        "id": "Fx-aK5E66KPN",
        "outputId": "dc43eb3b-6936-4c26-a7c6-318eef3e6396"
      },
      "outputs": [
        {
          "data": {
            "text/html": [
              "<div>\n",
              "<style scoped>\n",
              "    .dataframe tbody tr th:only-of-type {\n",
              "        vertical-align: middle;\n",
              "    }\n",
              "\n",
              "    .dataframe tbody tr th {\n",
              "        vertical-align: top;\n",
              "    }\n",
              "\n",
              "    .dataframe thead th {\n",
              "        text-align: right;\n",
              "    }\n",
              "</style>\n",
              "<table border=\"1\" class=\"dataframe\">\n",
              "  <thead>\n",
              "    <tr style=\"text-align: right;\">\n",
              "      <th></th>\n",
              "      <th>0</th>\n",
              "      <th>1</th>\n",
              "      <th>2</th>\n",
              "      <th>3</th>\n",
              "      <th>4</th>\n",
              "      <th>5</th>\n",
              "      <th>6</th>\n",
              "      <th>7</th>\n",
              "      <th>8</th>\n",
              "      <th>9</th>\n",
              "      <th>class</th>\n",
              "    </tr>\n",
              "  </thead>\n",
              "  <tbody>\n",
              "    <tr>\n",
              "      <th>0</th>\n",
              "      <td>28.7967</td>\n",
              "      <td>16.0021</td>\n",
              "      <td>2.6449</td>\n",
              "      <td>0.3918</td>\n",
              "      <td>0.1982</td>\n",
              "      <td>27.7004</td>\n",
              "      <td>22.0110</td>\n",
              "      <td>-8.2027</td>\n",
              "      <td>40.0920</td>\n",
              "      <td>81.8828</td>\n",
              "      <td>g</td>\n",
              "    </tr>\n",
              "    <tr>\n",
              "      <th>1</th>\n",
              "      <td>31.6036</td>\n",
              "      <td>11.7235</td>\n",
              "      <td>2.5185</td>\n",
              "      <td>0.5303</td>\n",
              "      <td>0.3773</td>\n",
              "      <td>26.2722</td>\n",
              "      <td>23.8238</td>\n",
              "      <td>-9.9574</td>\n",
              "      <td>6.3609</td>\n",
              "      <td>205.2610</td>\n",
              "      <td>g</td>\n",
              "    </tr>\n",
              "    <tr>\n",
              "      <th>2</th>\n",
              "      <td>162.0520</td>\n",
              "      <td>136.0310</td>\n",
              "      <td>4.0612</td>\n",
              "      <td>0.0374</td>\n",
              "      <td>0.0187</td>\n",
              "      <td>116.7410</td>\n",
              "      <td>-64.8580</td>\n",
              "      <td>-45.2160</td>\n",
              "      <td>76.9600</td>\n",
              "      <td>256.7880</td>\n",
              "      <td>g</td>\n",
              "    </tr>\n",
              "    <tr>\n",
              "      <th>3</th>\n",
              "      <td>23.8172</td>\n",
              "      <td>9.5728</td>\n",
              "      <td>2.3385</td>\n",
              "      <td>0.6147</td>\n",
              "      <td>0.3922</td>\n",
              "      <td>27.2107</td>\n",
              "      <td>-6.4633</td>\n",
              "      <td>-7.1513</td>\n",
              "      <td>10.4490</td>\n",
              "      <td>116.7370</td>\n",
              "      <td>g</td>\n",
              "    </tr>\n",
              "    <tr>\n",
              "      <th>4</th>\n",
              "      <td>75.1362</td>\n",
              "      <td>30.9205</td>\n",
              "      <td>3.1611</td>\n",
              "      <td>0.3168</td>\n",
              "      <td>0.1832</td>\n",
              "      <td>-5.5277</td>\n",
              "      <td>28.5525</td>\n",
              "      <td>21.8393</td>\n",
              "      <td>4.6480</td>\n",
              "      <td>356.4620</td>\n",
              "      <td>g</td>\n",
              "    </tr>\n",
              "  </tbody>\n",
              "</table>\n",
              "</div>"
            ],
            "text/plain": [
              "          0         1       2       3       4         5        6        7  \\\n",
              "0   28.7967   16.0021  2.6449  0.3918  0.1982   27.7004  22.0110  -8.2027   \n",
              "1   31.6036   11.7235  2.5185  0.5303  0.3773   26.2722  23.8238  -9.9574   \n",
              "2  162.0520  136.0310  4.0612  0.0374  0.0187  116.7410 -64.8580 -45.2160   \n",
              "3   23.8172    9.5728  2.3385  0.6147  0.3922   27.2107  -6.4633  -7.1513   \n",
              "4   75.1362   30.9205  3.1611  0.3168  0.1832   -5.5277  28.5525  21.8393   \n",
              "\n",
              "         8         9 class  \n",
              "0  40.0920   81.8828     g  \n",
              "1   6.3609  205.2610     g  \n",
              "2  76.9600  256.7880     g  \n",
              "3  10.4490  116.7370     g  \n",
              "4   4.6480  356.4620     g  "
            ]
          },
          "execution_count": 4,
          "metadata": {},
          "output_type": "execute_result"
        }
      ],
      "source": [
        "df.head()"
      ]
    },
    {
      "cell_type": "code",
      "execution_count": 5,
      "metadata": {
        "id": "_xbX7T0m6S6q"
      },
      "outputs": [],
      "source": [
        "df[\"class\"] = (df[\"class\"] == \"g\").astype(int)\n",
        "#gamma = 1"
      ]
    },
    {
      "cell_type": "code",
      "execution_count": 6,
      "metadata": {
        "colab": {
          "base_uri": "https://localhost:8080/",
          "height": 206
        },
        "id": "uGXvn-f16VL0",
        "outputId": "ef3c0511-9f7e-4228-dd90-571c219f8540"
      },
      "outputs": [
        {
          "data": {
            "text/html": [
              "<div>\n",
              "<style scoped>\n",
              "    .dataframe tbody tr th:only-of-type {\n",
              "        vertical-align: middle;\n",
              "    }\n",
              "\n",
              "    .dataframe tbody tr th {\n",
              "        vertical-align: top;\n",
              "    }\n",
              "\n",
              "    .dataframe thead th {\n",
              "        text-align: right;\n",
              "    }\n",
              "</style>\n",
              "<table border=\"1\" class=\"dataframe\">\n",
              "  <thead>\n",
              "    <tr style=\"text-align: right;\">\n",
              "      <th></th>\n",
              "      <th>0</th>\n",
              "      <th>1</th>\n",
              "      <th>2</th>\n",
              "      <th>3</th>\n",
              "      <th>4</th>\n",
              "      <th>5</th>\n",
              "      <th>6</th>\n",
              "      <th>7</th>\n",
              "      <th>8</th>\n",
              "      <th>9</th>\n",
              "      <th>class</th>\n",
              "    </tr>\n",
              "  </thead>\n",
              "  <tbody>\n",
              "    <tr>\n",
              "      <th>0</th>\n",
              "      <td>28.7967</td>\n",
              "      <td>16.0021</td>\n",
              "      <td>2.6449</td>\n",
              "      <td>0.3918</td>\n",
              "      <td>0.1982</td>\n",
              "      <td>27.7004</td>\n",
              "      <td>22.0110</td>\n",
              "      <td>-8.2027</td>\n",
              "      <td>40.0920</td>\n",
              "      <td>81.8828</td>\n",
              "      <td>1</td>\n",
              "    </tr>\n",
              "    <tr>\n",
              "      <th>1</th>\n",
              "      <td>31.6036</td>\n",
              "      <td>11.7235</td>\n",
              "      <td>2.5185</td>\n",
              "      <td>0.5303</td>\n",
              "      <td>0.3773</td>\n",
              "      <td>26.2722</td>\n",
              "      <td>23.8238</td>\n",
              "      <td>-9.9574</td>\n",
              "      <td>6.3609</td>\n",
              "      <td>205.2610</td>\n",
              "      <td>1</td>\n",
              "    </tr>\n",
              "    <tr>\n",
              "      <th>2</th>\n",
              "      <td>162.0520</td>\n",
              "      <td>136.0310</td>\n",
              "      <td>4.0612</td>\n",
              "      <td>0.0374</td>\n",
              "      <td>0.0187</td>\n",
              "      <td>116.7410</td>\n",
              "      <td>-64.8580</td>\n",
              "      <td>-45.2160</td>\n",
              "      <td>76.9600</td>\n",
              "      <td>256.7880</td>\n",
              "      <td>1</td>\n",
              "    </tr>\n",
              "    <tr>\n",
              "      <th>3</th>\n",
              "      <td>23.8172</td>\n",
              "      <td>9.5728</td>\n",
              "      <td>2.3385</td>\n",
              "      <td>0.6147</td>\n",
              "      <td>0.3922</td>\n",
              "      <td>27.2107</td>\n",
              "      <td>-6.4633</td>\n",
              "      <td>-7.1513</td>\n",
              "      <td>10.4490</td>\n",
              "      <td>116.7370</td>\n",
              "      <td>1</td>\n",
              "    </tr>\n",
              "    <tr>\n",
              "      <th>4</th>\n",
              "      <td>75.1362</td>\n",
              "      <td>30.9205</td>\n",
              "      <td>3.1611</td>\n",
              "      <td>0.3168</td>\n",
              "      <td>0.1832</td>\n",
              "      <td>-5.5277</td>\n",
              "      <td>28.5525</td>\n",
              "      <td>21.8393</td>\n",
              "      <td>4.6480</td>\n",
              "      <td>356.4620</td>\n",
              "      <td>1</td>\n",
              "    </tr>\n",
              "  </tbody>\n",
              "</table>\n",
              "</div>"
            ],
            "text/plain": [
              "          0         1       2       3       4         5        6        7  \\\n",
              "0   28.7967   16.0021  2.6449  0.3918  0.1982   27.7004  22.0110  -8.2027   \n",
              "1   31.6036   11.7235  2.5185  0.5303  0.3773   26.2722  23.8238  -9.9574   \n",
              "2  162.0520  136.0310  4.0612  0.0374  0.0187  116.7410 -64.8580 -45.2160   \n",
              "3   23.8172    9.5728  2.3385  0.6147  0.3922   27.2107  -6.4633  -7.1513   \n",
              "4   75.1362   30.9205  3.1611  0.3168  0.1832   -5.5277  28.5525  21.8393   \n",
              "\n",
              "         8         9  class  \n",
              "0  40.0920   81.8828      1  \n",
              "1   6.3609  205.2610      1  \n",
              "2  76.9600  256.7880      1  \n",
              "3  10.4490  116.7370      1  \n",
              "4   4.6480  356.4620      1  "
            ]
          },
          "execution_count": 6,
          "metadata": {},
          "output_type": "execute_result"
        }
      ],
      "source": [
        "df.head()"
      ]
    },
    {
      "cell_type": "code",
      "execution_count": 7,
      "metadata": {
        "colab": {
          "base_uri": "https://localhost:8080/",
          "height": 1000
        },
        "id": "BgQf9HHZItjm",
        "outputId": "a95c8244-ae3f-4d80-c201-2e42cd9d69e3"
      },
      "outputs": [
        {
          "data": {
            "image/png": "[encoded data removed]",
            "text/plain": [
              "<Figure size 640x480 with 1 Axes>"
            ]
          },
          "metadata": {},
          "output_type": "display_data"
        },
        {
          "data": {
            "image/png": "[encoded data removed]",
            "text/plain": [
              "<Figure size 640x480 with 1 Axes>"
            ]
          },
          "metadata": {},
          "output_type": "display_data"
        },
        {
          "data": {
            "image/png": "[encoded data removed]",
            "text/plain": [
              "<Figure size 640x480 with 1 Axes>"
            ]
          },
          "metadata": {},
          "output_type": "display_data"
        },
        {
          "data": {
            "image/png": "[encoded data removed]",
            "text/plain": [
              "<Figure size 640x480 with 1 Axes>"
            ]
          },
          "metadata": {},
          "output_type": "display_data"
        },
        {
          "data": {
            "image/png": "[encoded data removed]",
            "text/plain": [
              "<Figure size 640x480 with 1 Axes>"
            ]
          },
          "metadata": {},
          "output_type": "display_data"
        },
        {
          "data": {
            "image/png": "[encoded data removed]",
            "text/plain": [
              "<Figure size 640x480 with 1 Axes>"
            ]
          },
          "metadata": {},
          "output_type": "display_data"
        },
        {
          "data": {
            "image/png": "[encoded data removed]",
            "text/plain": [
              "<Figure size 640x480 with 1 Axes>"
            ]
          },
          "metadata": {},
          "output_type": "display_data"
        },
        {
          "data": {
            "image/png": "[encoded data removed]",
            "text/plain": [
              "<Figure size 640x480 with 1 Axes>"
            ]
          },
          "metadata": {},
          "output_type": "display_data"
        },
        {
          "data": {
            "image/png": "[encoded data removed]",
            "text/plain": [
              "<Figure size 640x480 with 1 Axes>"
            ]
          },
          "metadata": {},
          "output_type": "display_data"
        },
        {
          "data": {
            "image/png": "[encoded data removed]",
            "text/plain": [
              "<Figure size 640x480 with 1 Axes>"
            ]
          },
          "metadata": {},
          "output_type": "display_data"
        }
      ],
      "source": [
        "for label in cols[:-1]:\n",
        "  plt.hist(df[df[\"class\"]==1][label], color='blue', label='gamma', alpha=0.7, density=True)\n",
        "  plt.hist(df[df[\"class\"]==0][label], color='red', label='hadron', alpha=0.7, density=True)\n",
        "  plt.title(label)\n",
        "  plt.ylabel(\"Probability\")\n",
        "  plt.xlabel(label)\n",
        "  plt.legend()\n",
        "  plt.show()"
      ]
    },
    {
      "cell_type": "markdown",
      "metadata": {
        "id": "q3d7xVSHqT4L"
      },
      "source": [
        "#splitting and balancing"
      ]
    },
    {
      "cell_type": "code",
      "execution_count": 8,
      "metadata": {
        "colab": {
          "base_uri": "https://localhost:8080/"
        },
        "id": "C6nhbNcj6zhF",
        "outputId": "5d59b521-84dc-4157-f888-7c13b51ffa04"
      },
      "outputs": [
        {
          "data": {
            "text/plain": [
              "class\n",
              "g        6688\n",
              "h        6688\n",
              "Name: count, dtype: int64"
            ]
          },
          "execution_count": 8,
          "metadata": {},
          "output_type": "execute_result"
        }
      ],
      "source": [
        "resampler = RandomUnderSampler(random_state=0)\n",
        "x, y = resampler.fit_resample(x, y)\n",
        "pd.DataFrame(y).value_counts()"
      ]
    },
    {
      "cell_type": "code",
      "execution_count": 9,
      "metadata": {
        "id": "a2A1cEf58KrI"
      },
      "outputs": [],
      "source": [
        "#Splitting data for training and testing\n",
        "from sklearn.model_selection import train_test_split,GridSearchCV\n",
        "x_train, x_test, y_train, y_test= train_test_split(x, y, test_size= 0.3, random_state=0)"
      ]
    },
    {
      "cell_type": "markdown",
      "metadata": {
        "id": "N_ql20pQ95C-"
      },
      "source": [
        "#Logistic model\n"
      ]
    },
    {
      "cell_type": "code",
      "execution_count": 10,
      "metadata": {
        "colab": {
          "base_uri": "https://localhost:8080/",
          "height": 118
        },
        "id": "iv0KWSom97Yf",
        "outputId": "015cc267-9f15-4998-bb0f-e7d5f3025c14"
      },
      "outputs": [
        {
          "data": {
            "text/html": [
              "<style>#sk-container-id-1 {color: black;}#sk-container-id-1 pre{padding: 0;}#sk-container-id-1 div.sk-toggleable {background-color: white;}#sk-container-id-1 label.sk-toggleable__label {cursor: pointer;display: block;width: 100%;margin-bottom: 0;padding: 0.3em;box-sizing: border-box;text-align: center;}#sk-container-id-1 label.sk-toggleable__label-arrow:before {content: \"▸\";float: left;margin-right: 0.25em;color: #696969;}#sk-container-id-1 label.sk-toggleable__label-arrow:hover:before {color: black;}#sk-container-id-1 div.sk-estimator:hover label.sk-toggleable__label-arrow:before {color: black;}#sk-container-id-1 div.sk-toggleable__content {max-height: 0;max-width: 0;overflow: hidden;text-align: left;background-color: #f0f8ff;}#sk-container-id-1 div.sk-toggleable__content pre {margin: 0.2em;color: black;border-radius: 0.25em;background-color: #f0f8ff;}#sk-container-id-1 input.sk-toggleable__control:checked~div.sk-toggleable__content {max-height: 200px;max-width: 100%;overflow: auto;}#sk-container-id-1 input.sk-toggleable__control:checked~label.sk-toggleable__label-arrow:before {content: \"▾\";}#sk-container-id-1 div.sk-estimator input.sk-toggleable__control:checked~label.sk-toggleable__label {background-color: #d4ebff;}#sk-container-id-1 div.sk-label input.sk-toggleable__control:checked~label.sk-toggleable__label {background-color: #d4ebff;}#sk-container-id-1 input.sk-hidden--visually {border: 0;clip: rect(1px 1px 1px 1px);clip: rect(1px, 1px, 1px, 1px);height: 1px;margin: -1px;overflow: hidden;padding: 0;position: absolute;width: 1px;}#sk-container-id-1 div.sk-estimator {font-family: monospace;background-color: #f0f8ff;border: 1px dotted black;border-radius: 0.25em;box-sizing: border-box;margin-bottom: 0.5em;}#sk-container-id-1 div.sk-estimator:hover {background-color: #d4ebff;}#sk-container-id-1 div.sk-parallel-item::after {content: \"\";width: 100%;border-bottom: 1px solid gray;flex-grow: 1;}#sk-container-id-1 div.sk-label:hover label.sk-toggleable__label {background-color: #d4ebff;}#sk-container-id-1 div.sk-serial::before {content: \"\";position: absolute;border-left: 1px solid gray;box-sizing: border-box;top: 0;bottom: 0;left: 50%;z-index: 0;}#sk-container-id-1 div.sk-serial {display: flex;flex-direction: column;align-items: center;background-color: white;padding-right: 0.2em;padding-left: 0.2em;position: relative;}#sk-container-id-1 div.sk-item {position: relative;z-index: 1;}#sk-container-id-1 div.sk-parallel {display: flex;align-items: stretch;justify-content: center;background-color: white;position: relative;}#sk-container-id-1 div.sk-item::before, #sk-container-id-1 div.sk-parallel-item::before {content: \"\";position: absolute;border-left: 1px solid gray;box-sizing: border-box;top: 0;bottom: 0;left: 50%;z-index: -1;}#sk-container-id-1 div.sk-parallel-item {display: flex;flex-direction: column;z-index: 1;position: relative;background-color: white;}#sk-container-id-1 div.sk-parallel-item:first-child::after {align-self: flex-end;width: 50%;}#sk-container-id-1 div.sk-parallel-item:last-child::after {align-self: flex-start;width: 50%;}#sk-container-id-1 div.sk-parallel-item:only-child::after {width: 0;}#sk-container-id-1 div.sk-dashed-wrapped {border: 1px dashed gray;margin: 0 0.4em 0.5em 0.4em;box-sizing: border-box;padding-bottom: 0.4em;background-color: white;}#sk-container-id-1 div.sk-label label {font-family: monospace;font-weight: bold;display: inline-block;line-height: 1.2em;}#sk-container-id-1 div.sk-label-container {text-align: center;}#sk-container-id-1 div.sk-container {/* jupyter's `normalize.less` sets `[hidden] { display: none; }` but bootstrap.min.css set `[hidden] { display: none !important; }` so we also need the `!important` here to be able to override the default hidden behavior on the sphinx rendered scikit-learn.org. See: https://github.com/scikit-learn/scikit-learn/issues/21755 */display: inline-block !important;position: relative;}#sk-container-id-1 div.sk-text-repr-fallback {display: none;}</style><div id=\"sk-container-id-1\" class=\"sk-top-container\"><div class=\"sk-text-repr-fallback\"><pre>GridSearchCV(cv=10, estimator=LogisticRegression(),\n",
              "             param_grid={&#x27;C&#x27;: [0.01, 0.1, 1, 10, 50], &#x27;penalty&#x27;: [None, &#x27;l2&#x27;]},\n",
              "             scoring=&#x27;accuracy&#x27;)</pre><b>In a Jupyter environment, please rerun this cell to show the HTML representation or trust the notebook. <br />On GitHub, the HTML representation is unable to render, please try loading this page with nbviewer.org.</b></div><div class=\"sk-container\" hidden><div class=\"sk-item sk-dashed-wrapped\"><div class=\"sk-label-container\"><div class=\"sk-label sk-toggleable\"><input class=\"sk-toggleable__control sk-hidden--visually\" id=\"sk-estimator-id-1\" type=\"checkbox\" ><label for=\"sk-estimator-id-1\" class=\"sk-toggleable__label sk-toggleable__label-arrow\">GridSearchCV</label><div class=\"sk-toggleable__content\"><pre>GridSearchCV(cv=10, estimator=LogisticRegression(),\n",
              "             param_grid={&#x27;C&#x27;: [0.01, 0.1, 1, 10, 50], &#x27;penalty&#x27;: [None, &#x27;l2&#x27;]},\n",
              "             scoring=&#x27;accuracy&#x27;)</pre></div></div></div><div class=\"sk-parallel\"><div class=\"sk-parallel-item\"><div class=\"sk-item\"><div class=\"sk-label-container\"><div class=\"sk-label sk-toggleable\"><input class=\"sk-toggleable__control sk-hidden--visually\" id=\"sk-estimator-id-2\" type=\"checkbox\" ><label for=\"sk-estimator-id-2\" class=\"sk-toggleable__label sk-toggleable__label-arrow\">estimator: LogisticRegression</label><div class=\"sk-toggleable__content\"><pre>LogisticRegression()</pre></div></div></div><div class=\"sk-serial\"><div class=\"sk-item\"><div class=\"sk-estimator sk-toggleable\"><input class=\"sk-toggleable__control sk-hidden--visually\" id=\"sk-estimator-id-3\" type=\"checkbox\" ><label for=\"sk-estimator-id-3\" class=\"sk-toggleable__label sk-toggleable__label-arrow\">LogisticRegression</label><div class=\"sk-toggleable__content\"><pre>LogisticRegression()</pre></div></div></div></div></div></div></div></div></div></div>"
            ],
            "text/plain": [
              "GridSearchCV(cv=10, estimator=LogisticRegression(),\n",
              "             param_grid={'C': [0.01, 0.1, 1, 10, 50], 'penalty': [None, 'l2']},\n",
              "             scoring='accuracy')"
            ]
          },
          "execution_count": 10,
          "metadata": {},
          "output_type": "execute_result"
        }
      ],
      "source": [
        "model = LogisticRegression()\n",
        "parameters = {\n",
        "    'penalty': [None, 'l2'],\n",
        "    'C': [0.01,0.1, 1, 10, 50]\n",
        "}\n",
        "grid_search = GridSearchCV(model,param_grid=parameters,cv=10,scoring=\"accuracy\")\n",
        "grid_search.fit(x_train,y_train)\n"
      ]
    },
    {
      "cell_type": "code",
      "execution_count": 11,
      "metadata": {
        "colab": {
          "base_uri": "https://localhost:8080/",
          "height": 809
        },
        "id": "hm2n_bvXE1_K",
        "outputId": "030919ac-239d-4dd8-df2c-3fdb152f59e5"
      },
      "outputs": [
        {
          "data": {
            "text/html": [
              "<div>\n",
              "<style scoped>\n",
              "    .dataframe tbody tr th:only-of-type {\n",
              "        vertical-align: middle;\n",
              "    }\n",
              "\n",
              "    .dataframe tbody tr th {\n",
              "        vertical-align: top;\n",
              "    }\n",
              "\n",
              "    .dataframe thead th {\n",
              "        text-align: right;\n",
              "    }\n",
              "</style>\n",
              "<table border=\"1\" class=\"dataframe\">\n",
              "  <thead>\n",
              "    <tr style=\"text-align: right;\">\n",
              "      <th></th>\n",
              "      <th>mean_fit_time</th>\n",
              "      <th>std_fit_time</th>\n",
              "      <th>mean_score_time</th>\n",
              "      <th>std_score_time</th>\n",
              "      <th>param_C</th>\n",
              "      <th>param_penalty</th>\n",
              "      <th>params</th>\n",
              "      <th>split0_test_score</th>\n",
              "      <th>split1_test_score</th>\n",
              "      <th>split2_test_score</th>\n",
              "      <th>split3_test_score</th>\n",
              "      <th>split4_test_score</th>\n",
              "      <th>split5_test_score</th>\n",
              "      <th>split6_test_score</th>\n",
              "      <th>split7_test_score</th>\n",
              "      <th>split8_test_score</th>\n",
              "      <th>split9_test_score</th>\n",
              "      <th>mean_test_score</th>\n",
              "      <th>std_test_score</th>\n",
              "      <th>rank_test_score</th>\n",
              "    </tr>\n",
              "  </thead>\n",
              "  <tbody>\n",
              "    <tr>\n",
              "      <th>0</th>\n",
              "      <td>0.105201</td>\n",
              "      <td>0.008508</td>\n",
              "      <td>0.003599</td>\n",
              "      <td>0.000664</td>\n",
              "      <td>0.01</td>\n",
              "      <td>None</td>\n",
              "      <td>{'C': 0.01, 'penalty': None}</td>\n",
              "      <td>0.744931</td>\n",
              "      <td>0.779082</td>\n",
              "      <td>0.769477</td>\n",
              "      <td>0.778846</td>\n",
              "      <td>0.771368</td>\n",
              "      <td>0.785256</td>\n",
              "      <td>0.745726</td>\n",
              "      <td>0.767094</td>\n",
              "      <td>0.767094</td>\n",
              "      <td>0.760684</td>\n",
              "      <td>0.766956</td>\n",
              "      <td>0.012745</td>\n",
              "      <td>6</td>\n",
              "    </tr>\n",
              "    <tr>\n",
              "      <th>1</th>\n",
              "      <td>0.105600</td>\n",
              "      <td>0.003878</td>\n",
              "      <td>0.003300</td>\n",
              "      <td>0.000460</td>\n",
              "      <td>0.01</td>\n",
              "      <td>l2</td>\n",
              "      <td>{'C': 0.01, 'penalty': 'l2'}</td>\n",
              "      <td>0.753469</td>\n",
              "      <td>0.783351</td>\n",
              "      <td>0.775880</td>\n",
              "      <td>0.774573</td>\n",
              "      <td>0.798077</td>\n",
              "      <td>0.783120</td>\n",
              "      <td>0.758547</td>\n",
              "      <td>0.779915</td>\n",
              "      <td>0.772436</td>\n",
              "      <td>0.762821</td>\n",
              "      <td>0.774219</td>\n",
              "      <td>0.012556</td>\n",
              "      <td>1</td>\n",
              "    </tr>\n",
              "    <tr>\n",
              "      <th>2</th>\n",
              "      <td>0.104501</td>\n",
              "      <td>0.003776</td>\n",
              "      <td>0.003899</td>\n",
              "      <td>0.000539</td>\n",
              "      <td>0.1</td>\n",
              "      <td>None</td>\n",
              "      <td>{'C': 0.1, 'penalty': None}</td>\n",
              "      <td>0.744931</td>\n",
              "      <td>0.779082</td>\n",
              "      <td>0.769477</td>\n",
              "      <td>0.778846</td>\n",
              "      <td>0.771368</td>\n",
              "      <td>0.785256</td>\n",
              "      <td>0.745726</td>\n",
              "      <td>0.767094</td>\n",
              "      <td>0.767094</td>\n",
              "      <td>0.760684</td>\n",
              "      <td>0.766956</td>\n",
              "      <td>0.012745</td>\n",
              "      <td>6</td>\n",
              "    </tr>\n",
              "    <tr>\n",
              "      <th>3</th>\n",
              "      <td>0.115704</td>\n",
              "      <td>0.009781</td>\n",
              "      <td>0.004296</td>\n",
              "      <td>0.000783</td>\n",
              "      <td>0.1</td>\n",
              "      <td>l2</td>\n",
              "      <td>{'C': 0.1, 'penalty': 'l2'}</td>\n",
              "      <td>0.760939</td>\n",
              "      <td>0.778015</td>\n",
              "      <td>0.766275</td>\n",
              "      <td>0.774573</td>\n",
              "      <td>0.794872</td>\n",
              "      <td>0.782051</td>\n",
              "      <td>0.745726</td>\n",
              "      <td>0.770299</td>\n",
              "      <td>0.767094</td>\n",
              "      <td>0.761752</td>\n",
              "      <td>0.770160</td>\n",
              "      <td>0.012690</td>\n",
              "      <td>2</td>\n",
              "    </tr>\n",
              "    <tr>\n",
              "      <th>4</th>\n",
              "      <td>0.114701</td>\n",
              "      <td>0.006754</td>\n",
              "      <td>0.004099</td>\n",
              "      <td>0.000538</td>\n",
              "      <td>1</td>\n",
              "      <td>None</td>\n",
              "      <td>{'C': 1, 'penalty': None}</td>\n",
              "      <td>0.744931</td>\n",
              "      <td>0.779082</td>\n",
              "      <td>0.769477</td>\n",
              "      <td>0.778846</td>\n",
              "      <td>0.771368</td>\n",
              "      <td>0.785256</td>\n",
              "      <td>0.745726</td>\n",
              "      <td>0.767094</td>\n",
              "      <td>0.767094</td>\n",
              "      <td>0.760684</td>\n",
              "      <td>0.766956</td>\n",
              "      <td>0.012745</td>\n",
              "      <td>6</td>\n",
              "    </tr>\n",
              "    <tr>\n",
              "      <th>5</th>\n",
              "      <td>0.102701</td>\n",
              "      <td>0.004314</td>\n",
              "      <td>0.003800</td>\n",
              "      <td>0.000600</td>\n",
              "      <td>1</td>\n",
              "      <td>l2</td>\n",
              "      <td>{'C': 1, 'penalty': 'l2'}</td>\n",
              "      <td>0.750267</td>\n",
              "      <td>0.781217</td>\n",
              "      <td>0.760939</td>\n",
              "      <td>0.773504</td>\n",
              "      <td>0.784188</td>\n",
              "      <td>0.779915</td>\n",
              "      <td>0.748932</td>\n",
              "      <td>0.770299</td>\n",
              "      <td>0.763889</td>\n",
              "      <td>0.762821</td>\n",
              "      <td>0.767597</td>\n",
              "      <td>0.011766</td>\n",
              "      <td>4</td>\n",
              "    </tr>\n",
              "    <tr>\n",
              "      <th>6</th>\n",
              "      <td>0.102202</td>\n",
              "      <td>0.003793</td>\n",
              "      <td>0.003498</td>\n",
              "      <td>0.000669</td>\n",
              "      <td>10</td>\n",
              "      <td>None</td>\n",
              "      <td>{'C': 10, 'penalty': None}</td>\n",
              "      <td>0.744931</td>\n",
              "      <td>0.779082</td>\n",
              "      <td>0.769477</td>\n",
              "      <td>0.778846</td>\n",
              "      <td>0.771368</td>\n",
              "      <td>0.785256</td>\n",
              "      <td>0.745726</td>\n",
              "      <td>0.767094</td>\n",
              "      <td>0.767094</td>\n",
              "      <td>0.760684</td>\n",
              "      <td>0.766956</td>\n",
              "      <td>0.012745</td>\n",
              "      <td>6</td>\n",
              "    </tr>\n",
              "    <tr>\n",
              "      <th>7</th>\n",
              "      <td>0.101700</td>\n",
              "      <td>0.004101</td>\n",
              "      <td>0.003399</td>\n",
              "      <td>0.000490</td>\n",
              "      <td>10</td>\n",
              "      <td>l2</td>\n",
              "      <td>{'C': 10, 'penalty': 'l2'}</td>\n",
              "      <td>0.754536</td>\n",
              "      <td>0.778015</td>\n",
              "      <td>0.765208</td>\n",
              "      <td>0.773504</td>\n",
              "      <td>0.774573</td>\n",
              "      <td>0.791667</td>\n",
              "      <td>0.750000</td>\n",
              "      <td>0.768162</td>\n",
              "      <td>0.775641</td>\n",
              "      <td>0.760684</td>\n",
              "      <td>0.769199</td>\n",
              "      <td>0.011595</td>\n",
              "      <td>3</td>\n",
              "    </tr>\n",
              "    <tr>\n",
              "      <th>8</th>\n",
              "      <td>0.119701</td>\n",
              "      <td>0.014150</td>\n",
              "      <td>0.003900</td>\n",
              "      <td>0.000700</td>\n",
              "      <td>50</td>\n",
              "      <td>None</td>\n",
              "      <td>{'C': 50, 'penalty': None}</td>\n",
              "      <td>0.744931</td>\n",
              "      <td>0.779082</td>\n",
              "      <td>0.769477</td>\n",
              "      <td>0.778846</td>\n",
              "      <td>0.771368</td>\n",
              "      <td>0.785256</td>\n",
              "      <td>0.745726</td>\n",
              "      <td>0.767094</td>\n",
              "      <td>0.767094</td>\n",
              "      <td>0.760684</td>\n",
              "      <td>0.766956</td>\n",
              "      <td>0.012745</td>\n",
              "      <td>6</td>\n",
              "    </tr>\n",
              "    <tr>\n",
              "      <th>9</th>\n",
              "      <td>0.101801</td>\n",
              "      <td>0.002638</td>\n",
              "      <td>0.003700</td>\n",
              "      <td>0.000459</td>\n",
              "      <td>50</td>\n",
              "      <td>l2</td>\n",
              "      <td>{'C': 50, 'penalty': 'l2'}</td>\n",
              "      <td>0.748132</td>\n",
              "      <td>0.781217</td>\n",
              "      <td>0.769477</td>\n",
              "      <td>0.773504</td>\n",
              "      <td>0.773504</td>\n",
              "      <td>0.780983</td>\n",
              "      <td>0.748932</td>\n",
              "      <td>0.768162</td>\n",
              "      <td>0.767094</td>\n",
              "      <td>0.759615</td>\n",
              "      <td>0.767062</td>\n",
              "      <td>0.011076</td>\n",
              "      <td>5</td>\n",
              "    </tr>\n",
              "  </tbody>\n",
              "</table>\n",
              "</div>"
            ],
            "text/plain": [
              "   mean_fit_time  std_fit_time  mean_score_time  std_score_time param_C  \\\n",
              "0       0.105201      0.008508         0.003599        0.000664    0.01   \n",
              "1       0.105600      0.003878         0.003300        0.000460    0.01   \n",
              "2       0.104501      0.003776         0.003899        0.000539     0.1   \n",
              "3       0.115704      0.009781         0.004296        0.000783     0.1   \n",
              "4       0.114701      0.006754         0.004099        0.000538       1   \n",
              "5       0.102701      0.004314         0.003800        0.000600       1   \n",
              "6       0.102202      0.003793         0.003498        0.000669      10   \n",
              "7       0.101700      0.004101         0.003399        0.000490      10   \n",
              "8       0.119701      0.014150         0.003900        0.000700      50   \n",
              "9       0.101801      0.002638         0.003700        0.000459      50   \n",
              "\n",
              "  param_penalty                        params  split0_test_score  \\\n",
              "0          None  {'C': 0.01, 'penalty': None}           0.744931   \n",
              "1            l2  {'C': 0.01, 'penalty': 'l2'}           0.753469   \n",
              "2          None   {'C': 0.1, 'penalty': None}           0.744931   \n",
              "3            l2   {'C': 0.1, 'penalty': 'l2'}           0.760939   \n",
              "4          None     {'C': 1, 'penalty': None}           0.744931   \n",
              "5            l2     {'C': 1, 'penalty': 'l2'}           0.750267   \n",
              "6          None    {'C': 10, 'penalty': None}           0.744931   \n",
              "7            l2    {'C': 10, 'penalty': 'l2'}           0.754536   \n",
              "8          None    {'C': 50, 'penalty': None}           0.744931   \n",
              "9            l2    {'C': 50, 'penalty': 'l2'}           0.748132   \n",
              "\n",
              "   split1_test_score  split2_test_score  split3_test_score  split4_test_score  \\\n",
              "0           0.779082           0.769477           0.778846           0.771368   \n",
              "1           0.783351           0.775880           0.774573           0.798077   \n",
              "2           0.779082           0.769477           0.778846           0.771368   \n",
              "3           0.778015           0.766275           0.774573           0.794872   \n",
              "4           0.779082           0.769477           0.778846           0.771368   \n",
              "5           0.781217           0.760939           0.773504           0.784188   \n",
              "6           0.779082           0.769477           0.778846           0.771368   \n",
              "7           0.778015           0.765208           0.773504           0.774573   \n",
              "8           0.779082           0.769477           0.778846           0.771368   \n",
              "9           0.781217           0.769477           0.773504           0.773504   \n",
              "\n",
              "   split5_test_score  split6_test_score  split7_test_score  split8_test_score  \\\n",
              "0           0.785256           0.745726           0.767094           0.767094   \n",
              "1           0.783120           0.758547           0.779915           0.772436   \n",
              "2           0.785256           0.745726           0.767094           0.767094   \n",
              "3           0.782051           0.745726           0.770299           0.767094   \n",
              "4           0.785256           0.745726           0.767094           0.767094   \n",
              "5           0.779915           0.748932           0.770299           0.763889   \n",
              "6           0.785256           0.745726           0.767094           0.767094   \n",
              "7           0.791667           0.750000           0.768162           0.775641   \n",
              "8           0.785256           0.745726           0.767094           0.767094   \n",
              "9           0.780983           0.748932           0.768162           0.767094   \n",
              "\n",
              "   split9_test_score  mean_test_score  std_test_score  rank_test_score  \n",
              "0           0.760684         0.766956        0.012745                6  \n",
              "1           0.762821         0.774219        0.012556                1  \n",
              "2           0.760684         0.766956        0.012745                6  \n",
              "3           0.761752         0.770160        0.012690                2  \n",
              "4           0.760684         0.766956        0.012745                6  \n",
              "5           0.762821         0.767597        0.011766                4  \n",
              "6           0.760684         0.766956        0.012745                6  \n",
              "7           0.760684         0.769199        0.011595                3  \n",
              "8           0.760684         0.766956        0.012745                6  \n",
              "9           0.759615         0.767062        0.011076                5  "
            ]
          },
          "execution_count": 11,
          "metadata": {},
          "output_type": "execute_result"
        }
      ],
      "source": [
        "results = pd.DataFrame(grid_search.cv_results_)\n",
        "results"
      ]
    },
    {
      "cell_type": "code",
      "execution_count": 12,
      "metadata": {
        "colab": {
          "base_uri": "https://localhost:8080/"
        },
        "id": "hdppog4TN_w1",
        "outputId": "82d5177b-c69f-49d3-9044-79397255d15b"
      },
      "outputs": [
        {
          "name": "stdout",
          "output_type": "stream",
          "text": [
            "{'C': 0.01, 'penalty': 'l2'}\n"
          ]
        }
      ],
      "source": [
        "print(grid_search.best_params_)\n"
      ]
    },
    {
      "cell_type": "code",
      "execution_count": 13,
      "metadata": {
        "colab": {
          "base_uri": "https://localhost:8080/",
          "height": 363
        },
        "id": "64UnpvxiGdtz",
        "outputId": "60b3aafa-179c-40d1-d498-ec92ae7efbdd"
      },
      "outputs": [
        {
          "data": {
            "text/html": [
              "<div>\n",
              "<style scoped>\n",
              "    .dataframe tbody tr th:only-of-type {\n",
              "        vertical-align: middle;\n",
              "    }\n",
              "\n",
              "    .dataframe tbody tr th {\n",
              "        vertical-align: top;\n",
              "    }\n",
              "\n",
              "    .dataframe thead th {\n",
              "        text-align: right;\n",
              "    }\n",
              "</style>\n",
              "<table border=\"1\" class=\"dataframe\">\n",
              "  <thead>\n",
              "    <tr style=\"text-align: right;\">\n",
              "      <th></th>\n",
              "      <th>param_penalty</th>\n",
              "      <th>param_C</th>\n",
              "      <th>mean_test_score</th>\n",
              "    </tr>\n",
              "  </thead>\n",
              "  <tbody>\n",
              "    <tr>\n",
              "      <th>0</th>\n",
              "      <td>None</td>\n",
              "      <td>0.01</td>\n",
              "      <td>0.766956</td>\n",
              "    </tr>\n",
              "    <tr>\n",
              "      <th>1</th>\n",
              "      <td>l2</td>\n",
              "      <td>0.01</td>\n",
              "      <td>0.774219</td>\n",
              "    </tr>\n",
              "    <tr>\n",
              "      <th>2</th>\n",
              "      <td>None</td>\n",
              "      <td>0.1</td>\n",
              "      <td>0.766956</td>\n",
              "    </tr>\n",
              "    <tr>\n",
              "      <th>3</th>\n",
              "      <td>l2</td>\n",
              "      <td>0.1</td>\n",
              "      <td>0.770160</td>\n",
              "    </tr>\n",
              "    <tr>\n",
              "      <th>4</th>\n",
              "      <td>None</td>\n",
              "      <td>1</td>\n",
              "      <td>0.766956</td>\n",
              "    </tr>\n",
              "    <tr>\n",
              "      <th>5</th>\n",
              "      <td>l2</td>\n",
              "      <td>1</td>\n",
              "      <td>0.767597</td>\n",
              "    </tr>\n",
              "    <tr>\n",
              "      <th>6</th>\n",
              "      <td>None</td>\n",
              "      <td>10</td>\n",
              "      <td>0.766956</td>\n",
              "    </tr>\n",
              "    <tr>\n",
              "      <th>7</th>\n",
              "      <td>l2</td>\n",
              "      <td>10</td>\n",
              "      <td>0.769199</td>\n",
              "    </tr>\n",
              "    <tr>\n",
              "      <th>8</th>\n",
              "      <td>None</td>\n",
              "      <td>50</td>\n",
              "      <td>0.766956</td>\n",
              "    </tr>\n",
              "    <tr>\n",
              "      <th>9</th>\n",
              "      <td>l2</td>\n",
              "      <td>50</td>\n",
              "      <td>0.767062</td>\n",
              "    </tr>\n",
              "  </tbody>\n",
              "</table>\n",
              "</div>"
            ],
            "text/plain": [
              "  param_penalty param_C  mean_test_score\n",
              "0          None    0.01         0.766956\n",
              "1            l2    0.01         0.774219\n",
              "2          None     0.1         0.766956\n",
              "3            l2     0.1         0.770160\n",
              "4          None       1         0.766956\n",
              "5            l2       1         0.767597\n",
              "6          None      10         0.766956\n",
              "7            l2      10         0.769199\n",
              "8          None      50         0.766956\n",
              "9            l2      50         0.767062"
            ]
          },
          "execution_count": 13,
          "metadata": {},
          "output_type": "execute_result"
        }
      ],
      "source": [
        "selected_results = results[[\"param_penalty\", \"param_C\", \"mean_test_score\"]]\n",
        "selected_results"
      ]
    },
    {
      "cell_type": "code",
      "execution_count": 14,
      "metadata": {
        "colab": {
          "base_uri": "https://localhost:8080/"
        },
        "id": "5qnRtscZ_oME",
        "outputId": "ea8061c1-d023-4b03-abec-84dc807ce0c8"
      },
      "outputs": [
        {
          "name": "stdout",
          "output_type": "stream",
          "text": [
            "              precision    recall  f1-score   support\n",
            "\n",
            "           g       0.73      0.83      0.77      1970\n",
            "           h       0.81      0.70      0.75      2043\n",
            "\n",
            "    accuracy                           0.76      4013\n",
            "   macro avg       0.77      0.76      0.76      4013\n",
            "weighted avg       0.77      0.76      0.76      4013\n",
            "\n"
          ]
        }
      ],
      "source": [
        "from sklearn.metrics import classification_report\n",
        "lg_prediction = grid_search.best_estimator_.predict(x_test)\n",
        "print(classification_report(y_test,lg_prediction))\n"
      ]
    },
    {
      "cell_type": "code",
      "execution_count": 15,
      "metadata": {
        "colab": {
          "base_uri": "https://localhost:8080/",
          "height": 468
        },
        "id": "y2Tvx-K7ELRo",
        "outputId": "bd32212b-ceb9-4dce-9519-6134b3de1083"
      },
      "outputs": [
        {
          "data": {
            "text/plain": [
              "<sklearn.metrics._plot.confusion_matrix.ConfusionMatrixDisplay at 0x1f3180b5ad0>"
            ]
          },
          "execution_count": 15,
          "metadata": {},
          "output_type": "execute_result"
        },
        {
          "data": {
            "image/png": "[encoded data removed]",
            "text/plain": [
              "<Figure size 640x480 with 2 Axes>"
            ]
          },
          "metadata": {},
          "output_type": "display_data"
        }
      ],
      "source": [
        "matrix = confusion_matrix(y_test, lg_prediction)\n",
        "display = ConfusionMatrixDisplay(matrix)\n",
        "display.plot()"
      ]
    },
    {
      "cell_type": "markdown",
      "metadata": {
        "id": "GprWsNy5OfNo"
      },
      "source": [
        "#KNN"
      ]
    },
    {
      "cell_type": "code",
      "execution_count": 16,
      "metadata": {
        "id": "8VsIfyutOj64"
      },
      "outputs": [],
      "source": [
        "#KNN Model\n",
        "model = KNeighborsClassifier()\n",
        "\n",
        "params = {\n",
        "    \"n_neighbors\": list(range(3,20,2))\n",
        "}\n",
        "grid_search = GridSearchCV(model, param_grid=params, cv=10, return_train_score=True, scoring=\"accuracy\")"
      ]
    },
    {
      "cell_type": "code",
      "execution_count": 17,
      "metadata": {
        "colab": {
          "base_uri": "https://localhost:8080/",
          "height": 118
        },
        "id": "AyVFnFrPOzPT",
        "outputId": "add4b454-b423-4a19-92c5-4257d15541af"
      },
      "outputs": [
        {
          "data": {
            "text/html": [
              "<style>#sk-container-id-2 {color: black;}#sk-container-id-2 pre{padding: 0;}#sk-container-id-2 div.sk-toggleable {background-color: white;}#sk-container-id-2 label.sk-toggleable__label {cursor: pointer;display: block;width: 100%;margin-bottom: 0;padding: 0.3em;box-sizing: border-box;text-align: center;}#sk-container-id-2 label.sk-toggleable__label-arrow:before {content: \"▸\";float: left;margin-right: 0.25em;color: #696969;}#sk-container-id-2 label.sk-toggleable__label-arrow:hover:before {color: black;}#sk-container-id-2 div.sk-estimator:hover label.sk-toggleable__label-arrow:before {color: black;}#sk-container-id-2 div.sk-toggleable__content {max-height: 0;max-width: 0;overflow: hidden;text-align: left;background-color: #f0f8ff;}#sk-container-id-2 div.sk-toggleable__content pre {margin: 0.2em;color: black;border-radius: 0.25em;background-color: #f0f8ff;}#sk-container-id-2 input.sk-toggleable__control:checked~div.sk-toggleable__content {max-height: 200px;max-width: 100%;overflow: auto;}#sk-container-id-2 input.sk-toggleable__control:checked~label.sk-toggleable__label-arrow:before {content: \"▾\";}#sk-container-id-2 div.sk-estimator input.sk-toggleable__control:checked~label.sk-toggleable__label {background-color: #d4ebff;}#sk-container-id-2 div.sk-label input.sk-toggleable__control:checked~label.sk-toggleable__label {background-color: #d4ebff;}#sk-container-id-2 input.sk-hidden--visually {border: 0;clip: rect(1px 1px 1px 1px);clip: rect(1px, 1px, 1px, 1px);height: 1px;margin: -1px;overflow: hidden;padding: 0;position: absolute;width: 1px;}#sk-container-id-2 div.sk-estimator {font-family: monospace;background-color: #f0f8ff;border: 1px dotted black;border-radius: 0.25em;box-sizing: border-box;margin-bottom: 0.5em;}#sk-container-id-2 div.sk-estimator:hover {background-color: #d4ebff;}#sk-container-id-2 div.sk-parallel-item::after {content: \"\";width: 100%;border-bottom: 1px solid gray;flex-grow: 1;}#sk-container-id-2 div.sk-label:hover label.sk-toggleable__label {background-color: #d4ebff;}#sk-container-id-2 div.sk-serial::before {content: \"\";position: absolute;border-left: 1px solid gray;box-sizing: border-box;top: 0;bottom: 0;left: 50%;z-index: 0;}#sk-container-id-2 div.sk-serial {display: flex;flex-direction: column;align-items: center;background-color: white;padding-right: 0.2em;padding-left: 0.2em;position: relative;}#sk-container-id-2 div.sk-item {position: relative;z-index: 1;}#sk-container-id-2 div.sk-parallel {display: flex;align-items: stretch;justify-content: center;background-color: white;position: relative;}#sk-container-id-2 div.sk-item::before, #sk-container-id-2 div.sk-parallel-item::before {content: \"\";position: absolute;border-left: 1px solid gray;box-sizing: border-box;top: 0;bottom: 0;left: 50%;z-index: -1;}#sk-container-id-2 div.sk-parallel-item {display: flex;flex-direction: column;z-index: 1;position: relative;background-color: white;}#sk-container-id-2 div.sk-parallel-item:first-child::after {align-self: flex-end;width: 50%;}#sk-container-id-2 div.sk-parallel-item:last-child::after {align-self: flex-start;width: 50%;}#sk-container-id-2 div.sk-parallel-item:only-child::after {width: 0;}#sk-container-id-2 div.sk-dashed-wrapped {border: 1px dashed gray;margin: 0 0.4em 0.5em 0.4em;box-sizing: border-box;padding-bottom: 0.4em;background-color: white;}#sk-container-id-2 div.sk-label label {font-family: monospace;font-weight: bold;display: inline-block;line-height: 1.2em;}#sk-container-id-2 div.sk-label-container {text-align: center;}#sk-container-id-2 div.sk-container {/* jupyter's `normalize.less` sets `[hidden] { display: none; }` but bootstrap.min.css set `[hidden] { display: none !important; }` so we also need the `!important` here to be able to override the default hidden behavior on the sphinx rendered scikit-learn.org. See: https://github.com/scikit-learn/scikit-learn/issues/21755 */display: inline-block !important;position: relative;}#sk-container-id-2 div.sk-text-repr-fallback {display: none;}</style><div id=\"sk-container-id-2\" class=\"sk-top-container\"><div class=\"sk-text-repr-fallback\"><pre>GridSearchCV(cv=10, estimator=KNeighborsClassifier(),\n",
              "             param_grid={&#x27;n_neighbors&#x27;: [3, 5, 7, 9, 11, 13, 15, 17, 19]},\n",
              "             return_train_score=True, scoring=&#x27;accuracy&#x27;)</pre><b>In a Jupyter environment, please rerun this cell to show the HTML representation or trust the notebook. <br />On GitHub, the HTML representation is unable to render, please try loading this page with nbviewer.org.</b></div><div class=\"sk-container\" hidden><div class=\"sk-item sk-dashed-wrapped\"><div class=\"sk-label-container\"><div class=\"sk-label sk-toggleable\"><input class=\"sk-toggleable__control sk-hidden--visually\" id=\"sk-estimator-id-4\" type=\"checkbox\" ><label for=\"sk-estimator-id-4\" class=\"sk-toggleable__label sk-toggleable__label-arrow\">GridSearchCV</label><div class=\"sk-toggleable__content\"><pre>GridSearchCV(cv=10, estimator=KNeighborsClassifier(),\n",
              "             param_grid={&#x27;n_neighbors&#x27;: [3, 5, 7, 9, 11, 13, 15, 17, 19]},\n",
              "             return_train_score=True, scoring=&#x27;accuracy&#x27;)</pre></div></div></div><div class=\"sk-parallel\"><div class=\"sk-parallel-item\"><div class=\"sk-item\"><div class=\"sk-label-container\"><div class=\"sk-label sk-toggleable\"><input class=\"sk-toggleable__control sk-hidden--visually\" id=\"sk-estimator-id-5\" type=\"checkbox\" ><label for=\"sk-estimator-id-5\" class=\"sk-toggleable__label sk-toggleable__label-arrow\">estimator: KNeighborsClassifier</label><div class=\"sk-toggleable__content\"><pre>KNeighborsClassifier()</pre></div></div></div><div class=\"sk-serial\"><div class=\"sk-item\"><div class=\"sk-estimator sk-toggleable\"><input class=\"sk-toggleable__control sk-hidden--visually\" id=\"sk-estimator-id-6\" type=\"checkbox\" ><label for=\"sk-estimator-id-6\" class=\"sk-toggleable__label sk-toggleable__label-arrow\">KNeighborsClassifier</label><div class=\"sk-toggleable__content\"><pre>KNeighborsClassifier()</pre></div></div></div></div></div></div></div></div></div></div>"
            ],
            "text/plain": [
              "GridSearchCV(cv=10, estimator=KNeighborsClassifier(),\n",
              "             param_grid={'n_neighbors': [3, 5, 7, 9, 11, 13, 15, 17, 19]},\n",
              "             return_train_score=True, scoring='accuracy')"
            ]
          },
          "execution_count": 17,
          "metadata": {},
          "output_type": "execute_result"
        }
      ],
      "source": [
        "grid_search.fit(x_train, y_train)"
      ]
    },
    {
      "cell_type": "code",
      "execution_count": 18,
      "metadata": {
        "colab": {
          "base_uri": "https://localhost:8080/",
          "height": 581
        },
        "id": "Nmf5AnZHRBDx",
        "outputId": "6f734796-5377-482e-9f76-62538b09f291"
      },
      "outputs": [
        {
          "data": {
            "text/html": [
              "<div>\n",
              "<style scoped>\n",
              "    .dataframe tbody tr th:only-of-type {\n",
              "        vertical-align: middle;\n",
              "    }\n",
              "\n",
              "    .dataframe tbody tr th {\n",
              "        vertical-align: top;\n",
              "    }\n",
              "\n",
              "    .dataframe thead th {\n",
              "        text-align: right;\n",
              "    }\n",
              "</style>\n",
              "<table border=\"1\" class=\"dataframe\">\n",
              "  <thead>\n",
              "    <tr style=\"text-align: right;\">\n",
              "      <th></th>\n",
              "      <th>mean_fit_time</th>\n",
              "      <th>std_fit_time</th>\n",
              "      <th>mean_score_time</th>\n",
              "      <th>std_score_time</th>\n",
              "      <th>param_n_neighbors</th>\n",
              "      <th>params</th>\n",
              "      <th>split0_test_score</th>\n",
              "      <th>split1_test_score</th>\n",
              "      <th>split2_test_score</th>\n",
              "      <th>split3_test_score</th>\n",
              "      <th>...</th>\n",
              "      <th>split2_train_score</th>\n",
              "      <th>split3_train_score</th>\n",
              "      <th>split4_train_score</th>\n",
              "      <th>split5_train_score</th>\n",
              "      <th>split6_train_score</th>\n",
              "      <th>split7_train_score</th>\n",
              "      <th>split8_train_score</th>\n",
              "      <th>split9_train_score</th>\n",
              "      <th>mean_train_score</th>\n",
              "      <th>std_train_score</th>\n",
              "    </tr>\n",
              "  </thead>\n",
              "  <tbody>\n",
              "    <tr>\n",
              "      <th>0</th>\n",
              "      <td>0.023303</td>\n",
              "      <td>0.002000</td>\n",
              "      <td>0.079097</td>\n",
              "      <td>0.002704</td>\n",
              "      <td>3</td>\n",
              "      <td>{'n_neighbors': 3}</td>\n",
              "      <td>0.747065</td>\n",
              "      <td>0.782284</td>\n",
              "      <td>0.769477</td>\n",
              "      <td>0.764957</td>\n",
              "      <td>...</td>\n",
              "      <td>0.869096</td>\n",
              "      <td>0.870535</td>\n",
              "      <td>0.866738</td>\n",
              "      <td>0.867687</td>\n",
              "      <td>0.869942</td>\n",
              "      <td>0.867213</td>\n",
              "      <td>0.871010</td>\n",
              "      <td>0.872197</td>\n",
              "      <td>0.869403</td>\n",
              "      <td>0.001733</td>\n",
              "    </tr>\n",
              "    <tr>\n",
              "      <th>1</th>\n",
              "      <td>0.023401</td>\n",
              "      <td>0.001282</td>\n",
              "      <td>0.083999</td>\n",
              "      <td>0.004081</td>\n",
              "      <td>5</td>\n",
              "      <td>{'n_neighbors': 5}</td>\n",
              "      <td>0.753469</td>\n",
              "      <td>0.785486</td>\n",
              "      <td>0.768410</td>\n",
              "      <td>0.771368</td>\n",
              "      <td>...</td>\n",
              "      <td>0.837052</td>\n",
              "      <td>0.839919</td>\n",
              "      <td>0.838377</td>\n",
              "      <td>0.834817</td>\n",
              "      <td>0.841106</td>\n",
              "      <td>0.838377</td>\n",
              "      <td>0.840750</td>\n",
              "      <td>0.841106</td>\n",
              "      <td>0.838774</td>\n",
              "      <td>0.001906</td>\n",
              "    </tr>\n",
              "    <tr>\n",
              "      <th>2</th>\n",
              "      <td>0.024201</td>\n",
              "      <td>0.002562</td>\n",
              "      <td>0.093000</td>\n",
              "      <td>0.015035</td>\n",
              "      <td>7</td>\n",
              "      <td>{'n_neighbors': 7}</td>\n",
              "      <td>0.755603</td>\n",
              "      <td>0.790822</td>\n",
              "      <td>0.769477</td>\n",
              "      <td>0.771368</td>\n",
              "      <td>...</td>\n",
              "      <td>0.825777</td>\n",
              "      <td>0.824018</td>\n",
              "      <td>0.827459</td>\n",
              "      <td>0.821051</td>\n",
              "      <td>0.826391</td>\n",
              "      <td>0.825086</td>\n",
              "      <td>0.828765</td>\n",
              "      <td>0.826985</td>\n",
              "      <td>0.825554</td>\n",
              "      <td>0.002096</td>\n",
              "    </tr>\n",
              "    <tr>\n",
              "      <th>3</th>\n",
              "      <td>0.026003</td>\n",
              "      <td>0.003846</td>\n",
              "      <td>0.104299</td>\n",
              "      <td>0.020076</td>\n",
              "      <td>9</td>\n",
              "      <td>{'n_neighbors': 9}</td>\n",
              "      <td>0.752401</td>\n",
              "      <td>0.791889</td>\n",
              "      <td>0.768410</td>\n",
              "      <td>0.776709</td>\n",
              "      <td>...</td>\n",
              "      <td>0.814265</td>\n",
              "      <td>0.813575</td>\n",
              "      <td>0.819509</td>\n",
              "      <td>0.809897</td>\n",
              "      <td>0.816779</td>\n",
              "      <td>0.814169</td>\n",
              "      <td>0.819390</td>\n",
              "      <td>0.814643</td>\n",
              "      <td>0.815468</td>\n",
              "      <td>0.002809</td>\n",
              "    </tr>\n",
              "    <tr>\n",
              "      <th>4</th>\n",
              "      <td>0.024591</td>\n",
              "      <td>0.001569</td>\n",
              "      <td>0.101000</td>\n",
              "      <td>0.006768</td>\n",
              "      <td>11</td>\n",
              "      <td>{'n_neighbors': 11}</td>\n",
              "      <td>0.743863</td>\n",
              "      <td>0.786553</td>\n",
              "      <td>0.769477</td>\n",
              "      <td>0.782051</td>\n",
              "      <td>...</td>\n",
              "      <td>0.808806</td>\n",
              "      <td>0.806218</td>\n",
              "      <td>0.807523</td>\n",
              "      <td>0.802539</td>\n",
              "      <td>0.809659</td>\n",
              "      <td>0.805031</td>\n",
              "      <td>0.811202</td>\n",
              "      <td>0.807405</td>\n",
              "      <td>0.807149</td>\n",
              "      <td>0.002473</td>\n",
              "    </tr>\n",
              "    <tr>\n",
              "      <th>5</th>\n",
              "      <td>0.024799</td>\n",
              "      <td>0.001778</td>\n",
              "      <td>0.100308</td>\n",
              "      <td>0.006311</td>\n",
              "      <td>13</td>\n",
              "      <td>{'n_neighbors': 13}</td>\n",
              "      <td>0.752401</td>\n",
              "      <td>0.791889</td>\n",
              "      <td>0.772679</td>\n",
              "      <td>0.783120</td>\n",
              "      <td>...</td>\n",
              "      <td>0.803822</td>\n",
              "      <td>0.804438</td>\n",
              "      <td>0.801234</td>\n",
              "      <td>0.796013</td>\n",
              "      <td>0.803845</td>\n",
              "      <td>0.802658</td>\n",
              "      <td>0.807286</td>\n",
              "      <td>0.802895</td>\n",
              "      <td>0.803019</td>\n",
              "      <td>0.002765</td>\n",
              "    </tr>\n",
              "    <tr>\n",
              "      <th>6</th>\n",
              "      <td>0.027700</td>\n",
              "      <td>0.004336</td>\n",
              "      <td>0.110708</td>\n",
              "      <td>0.014860</td>\n",
              "      <td>15</td>\n",
              "      <td>{'n_neighbors': 15}</td>\n",
              "      <td>0.750267</td>\n",
              "      <td>0.788687</td>\n",
              "      <td>0.775880</td>\n",
              "      <td>0.777778</td>\n",
              "      <td>...</td>\n",
              "      <td>0.799193</td>\n",
              "      <td>0.795657</td>\n",
              "      <td>0.800878</td>\n",
              "      <td>0.793402</td>\n",
              "      <td>0.800641</td>\n",
              "      <td>0.798030</td>\n",
              "      <td>0.801234</td>\n",
              "      <td>0.797911</td>\n",
              "      <td>0.798450</td>\n",
              "      <td>0.002356</td>\n",
              "    </tr>\n",
              "    <tr>\n",
              "      <th>7</th>\n",
              "      <td>0.026523</td>\n",
              "      <td>0.002441</td>\n",
              "      <td>0.114699</td>\n",
              "      <td>0.015060</td>\n",
              "      <td>17</td>\n",
              "      <td>{'n_neighbors': 17}</td>\n",
              "      <td>0.745998</td>\n",
              "      <td>0.774813</td>\n",
              "      <td>0.775880</td>\n",
              "      <td>0.774573</td>\n",
              "      <td>...</td>\n",
              "      <td>0.794683</td>\n",
              "      <td>0.793758</td>\n",
              "      <td>0.798386</td>\n",
              "      <td>0.789724</td>\n",
              "      <td>0.797793</td>\n",
              "      <td>0.792809</td>\n",
              "      <td>0.798267</td>\n",
              "      <td>0.793995</td>\n",
              "      <td>0.794961</td>\n",
              "      <td>0.002577</td>\n",
              "    </tr>\n",
              "    <tr>\n",
              "      <th>8</th>\n",
              "      <td>0.024400</td>\n",
              "      <td>0.002334</td>\n",
              "      <td>0.105803</td>\n",
              "      <td>0.008215</td>\n",
              "      <td>19</td>\n",
              "      <td>{'n_neighbors': 19}</td>\n",
              "      <td>0.750267</td>\n",
              "      <td>0.781217</td>\n",
              "      <td>0.774813</td>\n",
              "      <td>0.770299</td>\n",
              "      <td>...</td>\n",
              "      <td>0.791004</td>\n",
              "      <td>0.793046</td>\n",
              "      <td>0.793995</td>\n",
              "      <td>0.786401</td>\n",
              "      <td>0.793639</td>\n",
              "      <td>0.788300</td>\n",
              "      <td>0.797199</td>\n",
              "      <td>0.789724</td>\n",
              "      <td>0.792161</td>\n",
              "      <td>0.003088</td>\n",
              "    </tr>\n",
              "  </tbody>\n",
              "</table>\n",
              "<p>9 rows × 31 columns</p>\n",
              "</div>"
            ],
            "text/plain": [
              "   mean_fit_time  std_fit_time  mean_score_time  std_score_time  \\\n",
              "0       0.023303      0.002000         0.079097        0.002704   \n",
              "1       0.023401      0.001282         0.083999        0.004081   \n",
              "2       0.024201      0.002562         0.093000        0.015035   \n",
              "3       0.026003      0.003846         0.104299        0.020076   \n",
              "4       0.024591      0.001569         0.101000        0.006768   \n",
              "5       0.024799      0.001778         0.100308        0.006311   \n",
              "6       0.027700      0.004336         0.110708        0.014860   \n",
              "7       0.026523      0.002441         0.114699        0.015060   \n",
              "8       0.024400      0.002334         0.105803        0.008215   \n",
              "\n",
              "  param_n_neighbors               params  split0_test_score  \\\n",
              "0                 3   {'n_neighbors': 3}           0.747065   \n",
              "1                 5   {'n_neighbors': 5}           0.753469   \n",
              "2                 7   {'n_neighbors': 7}           0.755603   \n",
              "3                 9   {'n_neighbors': 9}           0.752401   \n",
              "4                11  {'n_neighbors': 11}           0.743863   \n",
              "5                13  {'n_neighbors': 13}           0.752401   \n",
              "6                15  {'n_neighbors': 15}           0.750267   \n",
              "7                17  {'n_neighbors': 17}           0.745998   \n",
              "8                19  {'n_neighbors': 19}           0.750267   \n",
              "\n",
              "   split1_test_score  split2_test_score  split3_test_score  ...  \\\n",
              "0           0.782284           0.769477           0.764957  ...   \n",
              "1           0.785486           0.768410           0.771368  ...   \n",
              "2           0.790822           0.769477           0.771368  ...   \n",
              "3           0.791889           0.768410           0.776709  ...   \n",
              "4           0.786553           0.769477           0.782051  ...   \n",
              "5           0.791889           0.772679           0.783120  ...   \n",
              "6           0.788687           0.775880           0.777778  ...   \n",
              "7           0.774813           0.775880           0.774573  ...   \n",
              "8           0.781217           0.774813           0.770299  ...   \n",
              "\n",
              "   split2_train_score  split3_train_score  split4_train_score  \\\n",
              "0            0.869096            0.870535            0.866738   \n",
              "1            0.837052            0.839919            0.838377   \n",
              "2            0.825777            0.824018            0.827459   \n",
              "3            0.814265            0.813575            0.819509   \n",
              "4            0.808806            0.806218            0.807523   \n",
              "5            0.803822            0.804438            0.801234   \n",
              "6            0.799193            0.795657            0.800878   \n",
              "7            0.794683            0.793758            0.798386   \n",
              "8            0.791004            0.793046            0.793995   \n",
              "\n",
              "   split5_train_score  split6_train_score  split7_train_score  \\\n",
              "0            0.867687            0.869942            0.867213   \n",
              "1            0.834817            0.841106            0.838377   \n",
              "2            0.821051            0.826391            0.825086   \n",
              "3            0.809897            0.816779            0.814169   \n",
              "4            0.802539            0.809659            0.805031   \n",
              "5            0.796013            0.803845            0.802658   \n",
              "6            0.793402            0.800641            0.798030   \n",
              "7            0.789724            0.797793            0.792809   \n",
              "8            0.786401            0.793639            0.788300   \n",
              "\n",
              "   split8_train_score  split9_train_score  mean_train_score  std_train_score  \n",
              "0            0.871010            0.872197          0.869403         0.001733  \n",
              "1            0.840750            0.841106          0.838774         0.001906  \n",
              "2            0.828765            0.826985          0.825554         0.002096  \n",
              "3            0.819390            0.814643          0.815468         0.002809  \n",
              "4            0.811202            0.807405          0.807149         0.002473  \n",
              "5            0.807286            0.802895          0.803019         0.002765  \n",
              "6            0.801234            0.797911          0.798450         0.002356  \n",
              "7            0.798267            0.793995          0.794961         0.002577  \n",
              "8            0.797199            0.789724          0.792161         0.003088  \n",
              "\n",
              "[9 rows x 31 columns]"
            ]
          },
          "execution_count": 18,
          "metadata": {},
          "output_type": "execute_result"
        }
      ],
      "source": [
        "results = pd.DataFrame(grid_search.cv_results_)\n",
        "results"
      ]
    },
    {
      "cell_type": "code",
      "execution_count": 19,
      "metadata": {
        "colab": {
          "base_uri": "https://localhost:8080/"
        },
        "id": "nq6En55vRvkv",
        "outputId": "345fb128-0f2a-41be-c71c-bca335e46442"
      },
      "outputs": [
        {
          "name": "stdout",
          "output_type": "stream",
          "text": [
            "{'n_neighbors': 15}\n"
          ]
        }
      ],
      "source": [
        "print(grid_search.best_params_)\n"
      ]
    },
    {
      "cell_type": "code",
      "execution_count": 20,
      "metadata": {
        "colab": {
          "base_uri": "https://localhost:8080/",
          "height": 332
        },
        "id": "jiQgfpWmRJ-i",
        "outputId": "00ca4688-fc87-4d14-b4ef-2b4e86abfad8"
      },
      "outputs": [
        {
          "data": {
            "text/html": [
              "<div>\n",
              "<style scoped>\n",
              "    .dataframe tbody tr th:only-of-type {\n",
              "        vertical-align: middle;\n",
              "    }\n",
              "\n",
              "    .dataframe tbody tr th {\n",
              "        vertical-align: top;\n",
              "    }\n",
              "\n",
              "    .dataframe thead th {\n",
              "        text-align: right;\n",
              "    }\n",
              "</style>\n",
              "<table border=\"1\" class=\"dataframe\">\n",
              "  <thead>\n",
              "    <tr style=\"text-align: right;\">\n",
              "      <th></th>\n",
              "      <th>param_n_neighbors</th>\n",
              "      <th>mean_train_score</th>\n",
              "      <th>mean_test_score</th>\n",
              "    </tr>\n",
              "  </thead>\n",
              "  <tbody>\n",
              "    <tr>\n",
              "      <th>0</th>\n",
              "      <td>3</td>\n",
              "      <td>0.869403</td>\n",
              "      <td>0.760118</td>\n",
              "    </tr>\n",
              "    <tr>\n",
              "      <th>1</th>\n",
              "      <td>5</td>\n",
              "      <td>0.838774</td>\n",
              "      <td>0.767168</td>\n",
              "    </tr>\n",
              "    <tr>\n",
              "      <th>2</th>\n",
              "      <td>7</td>\n",
              "      <td>0.825554</td>\n",
              "      <td>0.769197</td>\n",
              "    </tr>\n",
              "    <tr>\n",
              "      <th>3</th>\n",
              "      <td>9</td>\n",
              "      <td>0.815468</td>\n",
              "      <td>0.768770</td>\n",
              "    </tr>\n",
              "    <tr>\n",
              "      <th>4</th>\n",
              "      <td>11</td>\n",
              "      <td>0.807149</td>\n",
              "      <td>0.767917</td>\n",
              "    </tr>\n",
              "    <tr>\n",
              "      <th>5</th>\n",
              "      <td>13</td>\n",
              "      <td>0.803019</td>\n",
              "      <td>0.770052</td>\n",
              "    </tr>\n",
              "    <tr>\n",
              "      <th>6</th>\n",
              "      <td>15</td>\n",
              "      <td>0.798450</td>\n",
              "      <td>0.770800</td>\n",
              "    </tr>\n",
              "    <tr>\n",
              "      <th>7</th>\n",
              "      <td>17</td>\n",
              "      <td>0.794961</td>\n",
              "      <td>0.770054</td>\n",
              "    </tr>\n",
              "    <tr>\n",
              "      <th>8</th>\n",
              "      <td>19</td>\n",
              "      <td>0.792161</td>\n",
              "      <td>0.769839</td>\n",
              "    </tr>\n",
              "  </tbody>\n",
              "</table>\n",
              "</div>"
            ],
            "text/plain": [
              "  param_n_neighbors  mean_train_score  mean_test_score\n",
              "0                 3          0.869403         0.760118\n",
              "1                 5          0.838774         0.767168\n",
              "2                 7          0.825554         0.769197\n",
              "3                 9          0.815468         0.768770\n",
              "4                11          0.807149         0.767917\n",
              "5                13          0.803019         0.770052\n",
              "6                15          0.798450         0.770800\n",
              "7                17          0.794961         0.770054\n",
              "8                19          0.792161         0.769839"
            ]
          },
          "execution_count": 20,
          "metadata": {},
          "output_type": "execute_result"
        }
      ],
      "source": [
        "needed_results=results[['param_n_neighbors','mean_train_score','mean_test_score']]\n",
        "needed_results"
      ]
    },
    {
      "cell_type": "code",
      "execution_count": 21,
      "metadata": {
        "colab": {
          "base_uri": "https://localhost:8080/"
        },
        "id": "_ASscqURSCO1",
        "outputId": "cf3e1f25-0d9e-4323-9317-c5e74a9196c6"
      },
      "outputs": [
        {
          "name": "stdout",
          "output_type": "stream",
          "text": [
            "              precision    recall  f1-score   support\n",
            "\n",
            "           g       0.71      0.85      0.78      1970\n",
            "           h       0.83      0.67      0.74      2043\n",
            "\n",
            "    accuracy                           0.76      4013\n",
            "   macro avg       0.77      0.76      0.76      4013\n",
            "weighted avg       0.77      0.76      0.76      4013\n",
            "\n"
          ]
        }
      ],
      "source": [
        "knn_prediction = grid_search.best_estimator_.predict(x_test)\n",
        "\n",
        "print(classification_report(y_test, knn_prediction))"
      ]
    },
    {
      "cell_type": "code",
      "execution_count": 22,
      "metadata": {
        "colab": {
          "base_uri": "https://localhost:8080/",
          "height": 466
        },
        "id": "xFgOa671DHUZ",
        "outputId": "b26340d5-d02c-4b43-a494-d2f2cc087539"
      },
      "outputs": [
        {
          "data": {
            "text/plain": [
              "<sklearn.metrics._plot.confusion_matrix.ConfusionMatrixDisplay at 0x1f318113a10>"
            ]
          },
          "execution_count": 22,
          "metadata": {},
          "output_type": "execute_result"
        },
        {
          "data": {
            "image/png": "[encoded data removed]",
            "text/plain": [
              "<Figure size 640x480 with 2 Axes>"
            ]
          },
          "metadata": {},
          "output_type": "display_data"
        }
      ],
      "source": [
        "matrix = confusion_matrix(y_test, knn_prediction)\n",
        "display = ConfusionMatrixDisplay(matrix)\n",
        "display.plot()"
      ]
    }
  ],
  "metadata": {
    "colab": {
      "provenance": []
    },
    "kernelspec": {
      "display_name": "Python 3",
      "name": "python3"
    },
    "language_info": {
      "codemirror_mode": {
        "name": "ipython",
        "version": 3
      },
      "file_extension": ".py",
      "mimetype": "text/x-python",
      "name": "python",
      "nbconvert_exporter": "python",
      "pygments_lexer": "ipython3",
      "version": "3.11.4"
    }
  },
  "nbformat": 4,
  "nbformat_minor": 0
}
